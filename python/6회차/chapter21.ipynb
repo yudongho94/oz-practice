{
 "cells": [
  {
   "cell_type": "code",
   "execution_count": 7,
   "metadata": {},
   "outputs": [
    {
     "name": "stdout",
     "output_type": "stream",
     "text": [
      "oz코딩스쿨\n",
      "oz코딩스쿨\n",
      "oz코딩스쿨\n",
      "oz코딩스쿨\n",
      "oz코딩스쿨\n"
     ]
    }
   ],
   "source": [
    "def oz():\n",
    "  for i in range(5):\n",
    "    print('oz코딩스쿨')\n",
    "\n",
    "oz()"
   ]
  },
  {
   "cell_type": "code",
   "execution_count": 1,
   "metadata": {},
   "outputs": [
    {
     "name": "stdout",
     "output_type": "stream",
     "text": [
      "\n"
     ]
    }
   ],
   "source": [
    "#print()만 입력해서 확인해보세요\n",
    "print()"
   ]
  },
  {
   "cell_type": "code",
   "execution_count": 2,
   "metadata": {},
   "outputs": [
    {
     "name": "stdout",
     "output_type": "stream",
     "text": [
      "oz코딩스쿨\n",
      "oz코딩스쿨\n",
      "oz코딩스쿨\n",
      "oz코딩스쿨\n",
      "oz코딩스쿨\n"
     ]
    }
   ],
   "source": [
    "def oz(message, n):\n",
    "  for i in range(n):\n",
    "    print(message)\n",
    "\n",
    "oz('oz코딩스쿨', 5)\n",
    "\n",
    "# def oz('오즈코딩스쿨', 5):\n",
    "#   for i in range(5):\n",
    "#     print('오즈코딩스쿨')\n",
    "\n",
    "# oz('oz코딩스쿨', 5)\n"
   ]
  },
  {
   "cell_type": "code",
   "execution_count": null,
   "metadata": {},
   "outputs": [],
   "source": []
  }
 ],
 "metadata": {
  "kernelspec": {
   "display_name": "Python 3",
   "language": "python",
   "name": "python3"
  },
  "language_info": {
   "codemirror_mode": {
    "name": "ipython",
    "version": 3
   },
   "file_extension": ".py",
   "mimetype": "text/x-python",
   "name": "python",
   "nbconvert_exporter": "python",
   "pygments_lexer": "ipython3",
   "version": "3.12.6"
  }
 },
 "nbformat": 4,
 "nbformat_minor": 2
}
