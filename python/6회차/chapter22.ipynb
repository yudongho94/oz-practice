{
 "cells": [
  {
   "cell_type": "code",
   "execution_count": 3,
   "metadata": {},
   "outputs": [
    {
     "ename": "TypeError",
     "evalue": "oz() missing 1 required positional argument: 'n'",
     "output_type": "error",
     "traceback": [
      "\u001b[0;31m---------------------------------------------------------------------------\u001b[0m",
      "\u001b[0;31mTypeError\u001b[0m                                 Traceback (most recent call last)",
      "Cell \u001b[0;32mIn[3], line 7\u001b[0m\n\u001b[1;32m      4\u001b[0m   \u001b[38;5;28;01mfor\u001b[39;00m i \u001b[38;5;129;01min\u001b[39;00m \u001b[38;5;28mrange\u001b[39m(n):\n\u001b[1;32m      5\u001b[0m     \u001b[38;5;28mprint\u001b[39m(message)\n\u001b[0;32m----> 7\u001b[0m \u001b[43moz\u001b[49m\u001b[43m(\u001b[49m\u001b[38;5;124;43m'\u001b[39;49m\u001b[38;5;124;43moz코딩스쿨\u001b[39;49m\u001b[38;5;124;43m'\u001b[39;49m\u001b[43m)\u001b[49m\n",
      "\u001b[0;31mTypeError\u001b[0m: oz() missing 1 required positional argument: 'n'"
     ]
    }
   ],
   "source": [
    "#매개변수를 적게 입력한 경우\n",
    "\n",
    "def oz(message, n):\n",
    "  for i in range(n):\n",
    "    print(message)\n",
    "\n",
    "oz('oz코딩스쿨')"
   ]
  },
  {
   "cell_type": "code",
   "execution_count": 5,
   "metadata": {},
   "outputs": [
    {
     "ename": "TypeError",
     "evalue": "oz() takes 2 positional arguments but 3 were given",
     "output_type": "error",
     "traceback": [
      "\u001b[0;31m---------------------------------------------------------------------------\u001b[0m",
      "\u001b[0;31mTypeError\u001b[0m                                 Traceback (most recent call last)",
      "Cell \u001b[0;32mIn[5], line 7\u001b[0m\n\u001b[1;32m      4\u001b[0m   \u001b[38;5;28;01mfor\u001b[39;00m i \u001b[38;5;129;01min\u001b[39;00m \u001b[38;5;28mrange\u001b[39m(n):\n\u001b[1;32m      5\u001b[0m     \u001b[38;5;28mprint\u001b[39m(message)\n\u001b[0;32m----> 7\u001b[0m \u001b[43moz\u001b[49m\u001b[43m(\u001b[49m\u001b[38;5;124;43m'\u001b[39;49m\u001b[38;5;124;43moz코딩스쿨\u001b[39;49m\u001b[38;5;124;43m'\u001b[39;49m\u001b[43m,\u001b[49m\u001b[43m \u001b[49m\u001b[38;5;241;43m5\u001b[39;49m\u001b[43m,\u001b[49m\u001b[43m \u001b[49m\u001b[38;5;241;43m3\u001b[39;49m\u001b[43m)\u001b[49m\n",
      "\u001b[0;31mTypeError\u001b[0m: oz() takes 2 positional arguments but 3 were given"
     ]
    }
   ],
   "source": [
    "#매개변수를 많이 입력한 경우\n",
    "\n",
    "def oz(message, n):\n",
    "  for i in range(n):\n",
    "    print(message)\n",
    "\n",
    "oz('oz코딩스쿨', 5, 3)"
   ]
  },
  {
   "cell_type": "code",
   "execution_count": 7,
   "metadata": {},
   "outputs": [
    {
     "name": "stdout",
     "output_type": "stream",
     "text": [
      "많이 넣을 수 있는 방법 콤마를 이용한다.\n"
     ]
    }
   ],
   "source": [
    "print('많이 넣을 수 있는 방법', '콤마를 이용한다.')"
   ]
  },
  {
   "cell_type": "code",
   "execution_count": 9,
   "metadata": {},
   "outputs": [
    {
     "name": "stdout",
     "output_type": "stream",
     "text": [
      "이렇게\n",
      "저렇게\n",
      "가변 매개변수는 이렇게\n",
      "신기하죠\n",
      "\n",
      "이렇게\n",
      "저렇게\n",
      "가변 매개변수는 이렇게\n",
      "신기하죠\n",
      "\n",
      "이렇게\n",
      "저렇게\n",
      "가변 매개변수는 이렇게\n",
      "신기하죠\n",
      "\n"
     ]
    }
   ],
   "source": [
    "def oz(n, *values):\n",
    "  for i in range(n):\n",
    "    for value in values:\n",
    "      print(value)\n",
    "    print()\n",
    "\n",
    "oz(3, \"이렇게\", \"저렇게\", \"가변 매개변수는 이렇게\", \"신기하죠\")"
   ]
  },
  {
   "cell_type": "markdown",
   "metadata": {},
   "source": [
    "가변 매개변수 2가지 주의점\n",
    "* 가변 매개변수 뒤에는 일반 매개변수가 올 수 없다.\n",
    "* 가변 매개변수는 하나만 사용할 수 있다."
   ]
  },
  {
   "cell_type": "code",
   "execution_count": 10,
   "metadata": {},
   "outputs": [
    {
     "ename": "TypeError",
     "evalue": "oz() missing 1 required keyword-only argument: 'n'",
     "output_type": "error",
     "traceback": [
      "\u001b[0;31m---------------------------------------------------------------------------\u001b[0m",
      "\u001b[0;31mTypeError\u001b[0m                                 Traceback (most recent call last)",
      "Cell \u001b[0;32mIn[10], line 7\u001b[0m\n\u001b[1;32m      4\u001b[0m       \u001b[38;5;28mprint\u001b[39m(value)\n\u001b[1;32m      5\u001b[0m     \u001b[38;5;28mprint\u001b[39m()\n\u001b[0;32m----> 7\u001b[0m \u001b[43moz\u001b[49m\u001b[43m(\u001b[49m\u001b[38;5;241;43m3\u001b[39;49m\u001b[43m,\u001b[49m\u001b[43m \u001b[49m\u001b[38;5;124;43m\"\u001b[39;49m\u001b[38;5;124;43m이렇게\u001b[39;49m\u001b[38;5;124;43m\"\u001b[39;49m\u001b[43m,\u001b[49m\u001b[43m \u001b[49m\u001b[38;5;124;43m\"\u001b[39;49m\u001b[38;5;124;43m저렇게\u001b[39;49m\u001b[38;5;124;43m\"\u001b[39;49m\u001b[43m,\u001b[49m\u001b[43m \u001b[49m\u001b[38;5;124;43m\"\u001b[39;49m\u001b[38;5;124;43m가변 매개변수는 이렇게\u001b[39;49m\u001b[38;5;124;43m\"\u001b[39;49m\u001b[43m,\u001b[49m\u001b[43m \u001b[49m\u001b[38;5;124;43m\"\u001b[39;49m\u001b[38;5;124;43m신기하죠\u001b[39;49m\u001b[38;5;124;43m\"\u001b[39;49m\u001b[43m)\u001b[49m\n",
      "\u001b[0;31mTypeError\u001b[0m: oz() missing 1 required keyword-only argument: 'n'"
     ]
    }
   ],
   "source": [
    "def oz(*values, n): #일반 매개변수가 뒤에 온 경우\n",
    "  for i in range(n):\n",
    "    for value in values:\n",
    "      print(value)\n",
    "    print()\n",
    "\n",
    "oz(3, \"이렇게\", \"저렇게\", \"가변 매개변수는 이렇게\", \"신기하죠\")"
   ]
  }
 ],
 "metadata": {
  "kernelspec": {
   "display_name": "Python 3",
   "language": "python",
   "name": "python3"
  },
  "language_info": {
   "codemirror_mode": {
    "name": "ipython",
    "version": 3
   },
   "file_extension": ".py",
   "mimetype": "text/x-python",
   "name": "python",
   "nbconvert_exporter": "python",
   "pygments_lexer": "ipython3",
   "version": "3.12.6"
  }
 },
 "nbformat": 4,
 "nbformat_minor": 2
}
