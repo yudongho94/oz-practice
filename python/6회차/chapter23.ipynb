{
 "cells": [
  {
   "cell_type": "code",
   "execution_count": 1,
   "metadata": {},
   "outputs": [
    {
     "name": "stdout",
     "output_type": "stream",
     "text": [
      "일반 매개변수 다음에 기본 매개변수를 배치해야 합니다.\n",
      "일반 매개변수 다음에 기본 매개변수를 배치해야 합니다.\n"
     ]
    }
   ],
   "source": [
    "def oz(value, n=2):\n",
    "  for i in range(n):\n",
    "    print(value)\n",
    "\n",
    "oz(\"일반 매개변수 다음에 기본 매개변수를 배치해야 합니다.\")"
   ]
  },
  {
   "cell_type": "code",
   "execution_count": 3,
   "metadata": {},
   "outputs": [
    {
     "name": "stdout",
     "output_type": "stream",
     "text": [
      "일반 매개변수 다음에 기본 매개변수를 배치해야 합니다.\n",
      "일반 매개변수 다음에 기본 매개변수를 배치해야 합니다.\n",
      "일반 매개변수 다음에 기본 매개변수를 배치해야 합니다.\n",
      "일반 매개변수 다음에 기본 매개변수를 배치해야 합니다.\n",
      "일반 매개변수 다음에 기본 매개변수를 배치해야 합니다.\n",
      "일반 매개변수 다음에 기본 매개변수를 배치해야 합니다.\n",
      "일반 매개변수 다음에 기본 매개변수를 배치해야 합니다.\n",
      "일반 매개변수 다음에 기본 매개변수를 배치해야 합니다.\n",
      "일반 매개변수 다음에 기본 매개변수를 배치해야 합니다.\n",
      "일반 매개변수 다음에 기본 매개변수를 배치해야 합니다.\n"
     ]
    }
   ],
   "source": [
    "def oz(value, n=2):\n",
    "  for i in range(n):\n",
    "    print(value)\n",
    "\n",
    "oz(\"일반 매개변수 다음에 기본 매개변수를 배치해야 합니다.\", n=10)"
   ]
  },
  {
   "cell_type": "code",
   "execution_count": 5,
   "metadata": {},
   "outputs": [
    {
     "ename": "SyntaxError",
     "evalue": "parameter without a default follows parameter with a default (1562201373.py, line 1)",
     "output_type": "error",
     "traceback": [
      "\u001b[0;36m  Cell \u001b[0;32mIn[5], line 1\u001b[0;36m\u001b[0m\n\u001b[0;31m    def oz(n=2, value):\u001b[0m\n\u001b[0m                ^\u001b[0m\n\u001b[0;31mSyntaxError\u001b[0m\u001b[0;31m:\u001b[0m parameter without a default follows parameter with a default\n"
     ]
    }
   ],
   "source": [
    "def oz(n=2, value):\n",
    "  for i in range(n):\n",
    "    print(value)\n",
    "\n",
    "oz(\"일반 매개변수 다음에 기본 매개변수를 배치해야 합니다.\")"
   ]
  }
 ],
 "metadata": {
  "kernelspec": {
   "display_name": "Python 3",
   "language": "python",
   "name": "python3"
  },
  "language_info": {
   "codemirror_mode": {
    "name": "ipython",
    "version": 3
   },
   "file_extension": ".py",
   "mimetype": "text/x-python",
   "name": "python",
   "nbconvert_exporter": "python",
   "pygments_lexer": "ipython3",
   "version": "3.12.6"
  }
 },
 "nbformat": 4,
 "nbformat_minor": 2
}
