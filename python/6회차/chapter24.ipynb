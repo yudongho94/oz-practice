{
 "cells": [
  {
   "cell_type": "code",
   "execution_count": 5,
   "metadata": {},
   "outputs": [
    {
     "ename": "TypeError",
     "evalue": "'str' object cannot be interpreted as an integer",
     "output_type": "error",
     "traceback": [
      "\u001b[0;31m---------------------------------------------------------------------------\u001b[0m",
      "\u001b[0;31mTypeError\u001b[0m                                 Traceback (most recent call last)",
      "Cell \u001b[0;32mIn[5], line 9\u001b[0m\n\u001b[1;32m      6\u001b[0m       \u001b[38;5;28mprint\u001b[39m(value)\n\u001b[1;32m      7\u001b[0m     \u001b[38;5;28mprint\u001b[39m()\n\u001b[0;32m----> 9\u001b[0m \u001b[43moz\u001b[49m\u001b[43m(\u001b[49m\u001b[38;5;124;43m\"\u001b[39;49m\u001b[38;5;124;43m기본 매개변수 다음에\u001b[39;49m\u001b[38;5;124;43m\"\u001b[39;49m\u001b[43m,\u001b[49m\u001b[43m \u001b[49m\u001b[38;5;124;43m\"\u001b[39;49m\u001b[38;5;124;43m가변 매개변수를\u001b[39;49m\u001b[38;5;124;43m\"\u001b[39;49m\u001b[43m,\u001b[49m\u001b[43m \u001b[49m\u001b[38;5;124;43m\"\u001b[39;49m\u001b[38;5;124;43m넣을 수 있을까요?\u001b[39;49m\u001b[38;5;124;43m\"\u001b[39;49m\u001b[43m)\u001b[49m\n",
      "Cell \u001b[0;32mIn[5], line 4\u001b[0m, in \u001b[0;36moz\u001b[0;34m(n, *values)\u001b[0m\n\u001b[1;32m      3\u001b[0m \u001b[38;5;28;01mdef\u001b[39;00m \u001b[38;5;21moz\u001b[39m(n\u001b[38;5;241m=\u001b[39m\u001b[38;5;241m3\u001b[39m, \u001b[38;5;241m*\u001b[39mvalues):\n\u001b[0;32m----> 4\u001b[0m   \u001b[38;5;28;01mfor\u001b[39;00m i \u001b[38;5;129;01min\u001b[39;00m \u001b[38;5;28;43mrange\u001b[39;49m\u001b[43m(\u001b[49m\u001b[43mn\u001b[49m\u001b[43m)\u001b[49m:\n\u001b[1;32m      5\u001b[0m     \u001b[38;5;28;01mfor\u001b[39;00m value \u001b[38;5;129;01min\u001b[39;00m values:\n\u001b[1;32m      6\u001b[0m       \u001b[38;5;28mprint\u001b[39m(value)\n",
      "\u001b[0;31mTypeError\u001b[0m: 'str' object cannot be interpreted as an integer"
     ]
    }
   ],
   "source": [
    "# (기본 매개변수, 가변 매개변수)\n",
    "\n",
    "def oz(n=3, *values):\n",
    "  for i in range(n):\n",
    "    for value in values:\n",
    "      print(value)\n",
    "    print()\n",
    "\n",
    "oz(\"기본 매개변수 다음에\", \"가변 매개변수를\", \"넣을 수 있을까요?\") # 기본 매개변수 뒤에 가변 매개변수가 왔기 때문에 오류가 남"
   ]
  },
  {
   "cell_type": "code",
   "execution_count": 8,
   "metadata": {},
   "outputs": [
    {
     "name": "stdout",
     "output_type": "stream",
     "text": [
      "기본 매개변수 다음에\n",
      "가변 매개변수를\n",
      "넣을 수 있을까요?\n",
      "10\n",
      "\n",
      "기본 매개변수 다음에\n",
      "가변 매개변수를\n",
      "넣을 수 있을까요?\n",
      "10\n",
      "\n",
      "기본 매개변수 다음에\n",
      "가변 매개변수를\n",
      "넣을 수 있을까요?\n",
      "10\n",
      "\n"
     ]
    }
   ],
   "source": [
    "#(가변 매개변수, 기본 매개변수)\n",
    "\n",
    "def oz(*values, n=3):\n",
    "  for i in range(n):\n",
    "    for value in values:\n",
    "      print(value)\n",
    "    print()\n",
    "\n",
    "oz(\"기본 매개변수 다음에\", \"가변 매개변수를\", \"넣을 수 있을까요?\", 10) #모두 가변 매변수로 입력되어서 10번이 아닌 3번만 반복됨"
   ]
  },
  {
   "cell_type": "code",
   "execution_count": 10,
   "metadata": {},
   "outputs": [
    {
     "name": "stdout",
     "output_type": "stream",
     "text": [
      "안\n",
      "녕\n",
      "하\n",
      "세\n",
      "요\n"
     ]
    }
   ],
   "source": [
    "#end = \\n\n",
    "\n",
    "list = ['안', '녕', '하', '세', '요']\n",
    "for i in list:\n",
    "  print(i)"
   ]
  },
  {
   "cell_type": "code",
   "execution_count": 13,
   "metadata": {},
   "outputs": [
    {
     "name": "stdout",
     "output_type": "stream",
     "text": [
      "안녕하세요"
     ]
    }
   ],
   "source": [
    "list = ['안', '녕', '하', '세', '요']\n",
    "for i in list:\n",
    "  print(i, end=\"\") #키워드 매개변수"
   ]
  },
  {
   "cell_type": "code",
   "execution_count": 20,
   "metadata": {},
   "outputs": [
    {
     "name": "stdout",
     "output_type": "stream",
     "text": [
      "2000\n",
      "1000\n",
      "125\n"
     ]
    }
   ],
   "source": [
    "#직육면체의 부피를 구하는 코드 작성 가로:x, 세로:y, 높이:h\n",
    "\n",
    "def oz(x, y=20, h=10):\n",
    "  print(x * y * h)\n",
    "\n",
    "#x식별자에 매개변수 10을 넣은 경우\n",
    "oz(10)\n",
    "#x식별자에 10을 넣고 y=10이라는 키워드 매개변수로 이용한 경우\n",
    "oz(10, y=10)\n",
    "#모든 매개변수를 키워드 매개변수로 넣은 경우\n",
    "oz(x=5, y=5, h=5)\n"
   ]
  }
 ],
 "metadata": {
  "kernelspec": {
   "display_name": "Python 3",
   "language": "python",
   "name": "python3"
  },
  "language_info": {
   "codemirror_mode": {
    "name": "ipython",
    "version": 3
   },
   "file_extension": ".py",
   "mimetype": "text/x-python",
   "name": "python",
   "nbconvert_exporter": "python",
   "pygments_lexer": "ipython3",
   "version": "3.12.6"
  }
 },
 "nbformat": 4,
 "nbformat_minor": 2
}
