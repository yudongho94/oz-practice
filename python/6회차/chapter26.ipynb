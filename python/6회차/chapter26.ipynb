{
 "cells": [
  {
   "cell_type": "code",
   "execution_count": 8,
   "metadata": {},
   "outputs": [
    {
     "name": "stdout",
     "output_type": "stream",
     "text": [
      "1  4  7  \n",
      "1  6  11  16  21  26  31  36  41  46  \n",
      "10  20  30  40  50  60  70  80  90  \n",
      "3  5  7  9  \n"
     ]
    }
   ],
   "source": [
    "def oz(start, end, multiple):\n",
    "  for i in range(start, end, multiple):\n",
    "    print(i, \" \", end=\"\")\n",
    "  print()\n",
    "\n",
    "oz(start=1, end=10, multiple=3)\n",
    "oz(start=1, end=50, multiple=5)\n",
    "oz(start=10, end=100, multiple=10)\n",
    "\n",
    "def oz(start=3, end=10, multiple=2):\n",
    "  for i in range(start, end, multiple):\n",
    "    print(i, \" \", end=\"\")\n",
    "  print()\n",
    "\n",
    "oz()"
   ]
  }
 ],
 "metadata": {
  "kernelspec": {
   "display_name": "Python 3",
   "language": "python",
   "name": "python3"
  },
  "language_info": {
   "codemirror_mode": {
    "name": "ipython",
    "version": 3
   },
   "file_extension": ".py",
   "mimetype": "text/x-python",
   "name": "python",
   "nbconvert_exporter": "python",
   "pygments_lexer": "ipython3",
   "version": "3.12.6"
  }
 },
 "nbformat": 4,
 "nbformat_minor": 2
}
