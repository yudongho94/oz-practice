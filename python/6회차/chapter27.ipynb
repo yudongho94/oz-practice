{
 "cells": [
  {
   "cell_type": "markdown",
   "metadata": {},
   "source": [
    "* 재귀함수 : 함수 안에 자신의 함수를 다시 호출하는 함수"
   ]
  },
  {
   "cell_type": "code",
   "execution_count": 3,
   "metadata": {},
   "outputs": [
    {
     "name": "stdout",
     "output_type": "stream",
     "text": [
      "3의 결과는 6입니다.\n"
     ]
    }
   ],
   "source": [
    "def oz_factorial(n):\n",
    "  output = 1\n",
    "  for i in range(1, n+1):\n",
    "    output *= i\n",
    "  return output\n",
    "\n",
    "n = int(input(\"구하고자하는 팩토리얼의 수를 입력해주세요\"))\n",
    "print(f'{n}의 결과는 {oz_factorial(n)}입니다.')"
   ]
  },
  {
   "cell_type": "code",
   "execution_count": 9,
   "metadata": {},
   "outputs": [
    {
     "name": "stdout",
     "output_type": "stream",
     "text": [
      "4의 결과는 24입니다.\n"
     ]
    }
   ],
   "source": [
    "# 재귀함수를 이용한 팩토리얼 구현 코드\n",
    "\n",
    "def oz_factorial(n):\n",
    "  if n == 0:\n",
    "      return 1\n",
    "  else:\n",
    "      return n * oz_factorial(n-1)\n",
    "  \n",
    "n = int(input(\"구하고자하는 팩토리얼의 수를 입력해주세요\"))\n",
    "print(f'{n}의 결과는 {oz_factorial(n)}입니다.')"
   ]
  },
  {
   "cell_type": "code",
   "execution_count": 16,
   "metadata": {},
   "outputs": [
    {
     "name": "stdout",
     "output_type": "stream",
     "text": [
      "피보나치 수열 5을 구하는 중입니다.\n",
      "피보나치 수열 4을 구하는 중입니다.\n",
      "피보나치 수열 3을 구하는 중입니다.\n",
      "피보나치 수열 2을 구하는 중입니다.\n",
      "피보나치 수열 1을 구하는 중입니다.\n",
      "피보나치 수열 2을 구하는 중입니다.\n",
      "피보나치 수열 3을 구하는 중입니다.\n",
      "피보나치 수열 2을 구하는 중입니다.\n",
      "피보나치 수열 1을 구하는 중입니다.\n",
      "피보나치 수열 5을 구하기 위해 계산된 횟수는 9입니다\n"
     ]
    }
   ],
   "source": [
    "# 피보나치 수열\n",
    "\n",
    "count = 0\n",
    "\n",
    "def oz_fibo(n):\n",
    "  print(f'피보나치 수열 {n}을 구하는 중입니다.')\n",
    "  global count\n",
    "  count += 1\n",
    "\n",
    "  if n == 1:\n",
    "    return 1\n",
    "  if n == 2:\n",
    "    return 1\n",
    "  else:\n",
    "    return oz_fibo(n-1) + oz_fibo(n-2)\n",
    "  \n",
    "n = int(input(\"구하고자하는 피보나치의 수를 입력해주세요\"))\n",
    "oz_fibo(n)\n",
    "print(f'피보나치 수열 {n}을 구하기 위해 계산된 횟수는 {count}입니다')"
   ]
  },
  {
   "cell_type": "code",
   "execution_count": 18,
   "metadata": {},
   "outputs": [
    {
     "name": "stdout",
     "output_type": "stream",
     "text": [
      "피보나치 수열 10을 구하는 중입니다.\n",
      "피보나치 수열 9을 구하는 중입니다.\n",
      "피보나치 수열 8을 구하는 중입니다.\n",
      "피보나치 수열 7을 구하는 중입니다.\n",
      "피보나치 수열 6을 구하는 중입니다.\n",
      "피보나치 수열 5을 구하는 중입니다.\n",
      "피보나치 수열 4을 구하는 중입니다.\n",
      "피보나치 수열 3을 구하는 중입니다.\n",
      "피보나치 수열 2을 구하는 중입니다.\n",
      "피보나치 수열 1을 구하는 중입니다.\n",
      "피보나치 수열 2을 구하는 중입니다.\n",
      "피보나치 수열 3을 구하는 중입니다.\n",
      "피보나치 수열 4을 구하는 중입니다.\n",
      "피보나치 수열 5을 구하는 중입니다.\n",
      "피보나치 수열 6을 구하는 중입니다.\n",
      "피보나치 수열 7을 구하는 중입니다.\n",
      "피보나치 수열 8을 구하는 중입니다.\n",
      "피보나치 수열 10을 구하기 위해 계산된 횟수는 17입니다\n"
     ]
    }
   ],
   "source": [
    "#메모리제이션 : 중복적인 계산을 제거하고 실행속도를 빠르게 만들어주는 것\n",
    "\n",
    "memo = {\n",
    "  1: 1,\n",
    "  2: 1,\n",
    "}\n",
    "\n",
    "count = 0\n",
    "\n",
    "def oz_fibo(n):\n",
    "  print(f'피보나치 수열 {n}을 구하는 중입니다.')\n",
    "  global count\n",
    "  count += 1\n",
    "\n",
    "  if n in memo:\n",
    "    return memo[n]\n",
    "  else:\n",
    "    output = oz_fibo(n-1) + oz_fibo(n-2)\n",
    "    memo[n] = output\n",
    "    return output\n",
    "  \n",
    "n = int(input(\"구하고자하는 피보나치의 수를 입력해주세요\"))\n",
    "oz_fibo(n)\n",
    "print(f'피보나치 수열 {n}을 구하기 위해 계산된 횟수는 {count}입니다')"
   ]
  }
 ],
 "metadata": {
  "kernelspec": {
   "display_name": "Python 3",
   "language": "python",
   "name": "python3"
  },
  "language_info": {
   "codemirror_mode": {
    "name": "ipython",
    "version": 3
   },
   "file_extension": ".py",
   "mimetype": "text/x-python",
   "name": "python",
   "nbconvert_exporter": "python",
   "pygments_lexer": "ipython3",
   "version": "3.12.6"
  }
 },
 "nbformat": 4,
 "nbformat_minor": 2
}
