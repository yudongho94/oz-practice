{
 "cells": [
  {
   "cell_type": "code",
   "execution_count": 1,
   "metadata": {},
   "outputs": [
    {
     "name": "stdout",
     "output_type": "stream",
     "text": [
      "피보나치 수열 10을 구하는 중입니다.\n",
      "피보나치 수열 9을 구하는 중입니다.\n",
      "피보나치 수열 8을 구하는 중입니다.\n",
      "피보나치 수열 7을 구하는 중입니다.\n",
      "피보나치 수열 6을 구하는 중입니다.\n",
      "피보나치 수열 5을 구하는 중입니다.\n",
      "피보나치 수열 4을 구하는 중입니다.\n",
      "피보나치 수열 3을 구하는 중입니다.\n",
      "피보나치 수열 2을 구하는 중입니다.\n",
      "피보나치 수열 1을 구하는 중입니다.\n",
      "피보나치 수열 2을 구하는 중입니다.\n",
      "피보나치 수열 3을 구하는 중입니다.\n",
      "피보나치 수열 4을 구하는 중입니다.\n",
      "피보나치 수열 5을 구하는 중입니다.\n",
      "피보나치 수열 6을 구하는 중입니다.\n",
      "피보나치 수열 7을 구하는 중입니다.\n",
      "피보나치 수열 8을 구하는 중입니다.\n",
      "피보나치 수열 10을 구하기 위해 계산된 횟수는 17입니다\n"
     ]
    }
   ],
   "source": [
    "memo = {\n",
    "  1: 1,\n",
    "  2: 1,\n",
    "}\n",
    "\n",
    "count = 0\n",
    "\n",
    "def oz_fibo(n):\n",
    "  print(f'피보나치 수열 {n}을 구하는 중입니다.')\n",
    "  global count\n",
    "  count += 1\n",
    "\n",
    "  if n in memo:\n",
    "    return memo[n]\n",
    "  else:\n",
    "    output = oz_fibo(n-1) + oz_fibo(n-2)\n",
    "    memo[n] = output\n",
    "    return output\n",
    "  \n",
    "n = int(input(\"구하고자하는 피보나치의 수를 입력해주세요\"))\n",
    "oz_fibo(n)\n",
    "print(f'피보나치 수열 {n}을 구하기 위해 계산된 횟수는 {count}입니다')"
   ]
  },
  {
   "cell_type": "code",
   "execution_count": null,
   "metadata": {},
   "outputs": [],
   "source": [
    "memo = {\n",
    "  1: 1,\n",
    "  2: 1,\n",
    "}\n",
    "\n",
    "count = 0\n",
    "\n",
    "def oz_fibo(n):\n",
    "  print(f'피보나치 수열 {n}을 구하는 중입니다.')\n",
    "  global count\n",
    "  count += 1\n",
    "\n",
    "  if n in memo:\n",
    "    return memo[n]\n",
    "  \n",
    "  output = oz_fibo(n-1) + oz_fibo(n-2)\n",
    "  memo[n] = output\n",
    "  return output\n",
    "  \n",
    "n = int(input(\"구하고자하는 피보나치의 수를 입력해주세요\"))\n",
    "oz_fibo(n)\n",
    "print(f'피보나치 수열 {n}을 구하기 위해 계산된 횟수는 {count}입니다')"
   ]
  }
 ],
 "metadata": {
  "kernelspec": {
   "display_name": "Python 3",
   "language": "python",
   "name": "python3"
  },
  "language_info": {
   "codemirror_mode": {
    "name": "ipython",
    "version": 3
   },
   "file_extension": ".py",
   "mimetype": "text/x-python",
   "name": "python",
   "nbconvert_exporter": "python",
   "pygments_lexer": "ipython3",
   "version": "3.12.6"
  }
 },
 "nbformat": 4,
 "nbformat_minor": 2
}
