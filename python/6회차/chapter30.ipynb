{
 "cells": [
  {
   "cell_type": "code",
   "execution_count": 8,
   "metadata": {},
   "outputs": [
    {
     "name": "stdout",
     "output_type": "stream",
     "text": [
      "파이썬 이건 또 무슨 개념이야?\n",
      "파이썬 이건 또 무슨 개념이야?\n",
      "파이썬 이건 또 무슨 개념이야?\n",
      "파이썬 이건 또 무슨 개념이야?\n",
      "파이썬 이건 또 무슨 개념이야?\n"
     ]
    }
   ],
   "source": [
    "def oz_call(function):\n",
    "  for i in range(5):\n",
    "    function()\n",
    "\n",
    "def talk():\n",
    "  print(\"파이썬 이건 또 무슨 개념이야?\")\n",
    "\n",
    "oz_call(talk)"
   ]
  },
  {
   "cell_type": "code",
   "execution_count": 12,
   "metadata": {},
   "outputs": [
    {
     "name": "stdout",
     "output_type": "stream",
     "text": [
      "map 결과:  <map object at 0x10f3bece0>\n",
      "map 결과의 list 형변환 [2, 4, 6, 8, 10, 12, 14, 16, 18, 20]\n"
     ]
    }
   ],
   "source": [
    "# 자기 자신을 곱한 결과를 새로운 list를 만들어주는 map()함수 코드\n",
    "\n",
    "def square(i):\n",
    "  return i + i\n",
    "\n",
    "numbers_list = [1,2,3,4,5,6,7,8,9,10]\n",
    "\n",
    "result = map(square, numbers_list)\n",
    "\n",
    "print(\"map 결과: \", result)\n",
    "print(\"map 결과의 list 형변환\", list(result))"
   ]
  },
  {
   "cell_type": "code",
   "execution_count": 16,
   "metadata": {},
   "outputs": [
    {
     "name": "stdout",
     "output_type": "stream",
     "text": [
      "map 결과:  <filter object at 0x10f3d89a0>\n",
      "map 결과의 list 형변환 [1, 2, 3, 4]\n"
     ]
    }
   ],
   "source": [
    "# filter 함수 코드\n",
    "\n",
    "def under(i):\n",
    "  return i < 5\n",
    "\n",
    "numbers_list = [1,2,3,4,5,6,7,8,9,10]\n",
    "\n",
    "result = filter(under, numbers_list)\n",
    "\n",
    "print(\"map 결과: \", result)\n",
    "print(\"map 결과의 list 형변환\", list(result))"
   ]
  },
  {
   "cell_type": "code",
   "execution_count": 17,
   "metadata": {},
   "outputs": [
    {
     "name": "stdout",
     "output_type": "stream",
     "text": [
      "map 결과:  <map object at 0x10f39a080>\n",
      "map 결과의 list 형변환 [1, 4, 9, 16, 25, 36, 49, 64, 81, 100]\n"
     ]
    }
   ],
   "source": [
    "# 람다 = 이름이 없는 익명함수를 만들 수 있음\n",
    "\n",
    "square = lambda i: i * i\n",
    "\n",
    "numbers_list = [1,2,3,4,5,6,7,8,9,10]\n",
    "\n",
    "result = map(square, numbers_list)\n",
    "\n",
    "print(\"map 결과: \", result)\n",
    "print(\"map 결과의 list 형변환\", list(result))"
   ]
  },
  {
   "cell_type": "code",
   "execution_count": 19,
   "metadata": {},
   "outputs": [
    {
     "name": "stdout",
     "output_type": "stream",
     "text": [
      "map 결과:  <filter object at 0x10f3dbc40>\n",
      "map 결과의 list 형변환 [1, 2, 3, 4]\n"
     ]
    }
   ],
   "source": [
    "under = lambda i : i < 5\n",
    "\n",
    "numbers_list = [1,2,3,4,5,6,7,8,9,10]\n",
    "\n",
    "result = filter(under, numbers_list)\n",
    "\n",
    "print(\"map 결과: \", result)\n",
    "print(\"map 결과의 list 형변환\", list(result))"
   ]
  },
  {
   "cell_type": "code",
   "execution_count": 22,
   "metadata": {},
   "outputs": [
    {
     "name": "stdout",
     "output_type": "stream",
     "text": [
      "map의 결과: <map object at 0x10f34caf0>\n",
      "map 결과의 list 형변환 [2, 4, 6, 8, 10, 12, 14, 16, 18, 20]\n"
     ]
    }
   ],
   "source": [
    "number_list = [1,2,3,4,5,6,7,8,9,10]\n",
    "\n",
    "result = map(lambda i : i + i, numbers_list)\n",
    "print(\"map의 결과:\", result)\n",
    "print(\"map 결과의 list 형변환\", list(result))"
   ]
  },
  {
   "cell_type": "code",
   "execution_count": 23,
   "metadata": {},
   "outputs": [
    {
     "name": "stdout",
     "output_type": "stream",
     "text": [
      "map 결과:  <filter object at 0x10f500b20>\n",
      "map 결과의 list 형변환 [1, 2, 3, 4]\n"
     ]
    }
   ],
   "source": [
    "numbers_list = [1,2,3,4,5,6,7,8,9,10]\n",
    "\n",
    "result = filter(lambda i : i < 5, numbers_list)\n",
    "\n",
    "print(\"map 결과: \", result)\n",
    "print(\"map 결과의 list 형변환\", list(result))"
   ]
  }
 ],
 "metadata": {
  "kernelspec": {
   "display_name": "Python 3",
   "language": "python",
   "name": "python3"
  },
  "language_info": {
   "codemirror_mode": {
    "name": "ipython",
    "version": 3
   },
   "file_extension": ".py",
   "mimetype": "text/x-python",
   "name": "python",
   "nbconvert_exporter": "python",
   "pygments_lexer": "ipython3",
   "version": "3.12.6"
  }
 },
 "nbformat": 4,
 "nbformat_minor": 2
}
