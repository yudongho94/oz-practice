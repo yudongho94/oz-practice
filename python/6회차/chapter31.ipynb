{
 "cells": [
  {
   "cell_type": "code",
   "execution_count": 1,
   "metadata": {},
   "outputs": [
    {
     "name": "stdout",
     "output_type": "stream",
     "text": [
      "첫번째 출력\n",
      "두번째 출력\n",
      "<generator object test at 0x11308d540>\n"
     ]
    }
   ],
   "source": [
    "def test():\n",
    "  print(\"제너레이터 실습 코드입니다.\")\n",
    "  yield \"test\"\n",
    "\n",
    "print(\"첫번째 출력\")\n",
    "test()\n",
    "\n",
    "print(\"두번째 출력\")\n",
    "test()\n",
    "\n",
    "print(test())"
   ]
  }
 ],
 "metadata": {
  "kernelspec": {
   "display_name": "Python 3",
   "language": "python",
   "name": "python3"
  },
  "language_info": {
   "codemirror_mode": {
    "name": "ipython",
    "version": 3
   },
   "file_extension": ".py",
   "mimetype": "text/x-python",
   "name": "python",
   "nbconvert_exporter": "python",
   "pygments_lexer": "ipython3",
   "version": "3.12.6"
  }
 },
 "nbformat": 4,
 "nbformat_minor": 2
}
