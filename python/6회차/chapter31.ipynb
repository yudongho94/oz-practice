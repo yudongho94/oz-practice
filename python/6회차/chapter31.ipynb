{
 "cells": [
  {
   "cell_type": "code",
   "execution_count": 1,
   "metadata": {},
   "outputs": [
    {
     "name": "stdout",
     "output_type": "stream",
     "text": [
      "첫번째 출력\n",
      "두번째 출력\n",
      "<generator object test at 0x10859d540>\n"
     ]
    }
   ],
   "source": [
    "def test():\n",
    "  print(\"제너레이터 실습 코드입니다.\")\n",
    "  yield \"test\"\n",
    "\n",
    "print(\"첫번째 출력\")\n",
    "test()\n",
    "\n",
    "print(\"두번째 출력\")\n",
    "test()\n",
    "\n",
    "print(test())"
   ]
  },
  {
   "cell_type": "code",
   "execution_count": 4,
   "metadata": {},
   "outputs": [
    {
     "name": "stdout",
     "output_type": "stream",
     "text": [
      "네번째 출력\n",
      "첫번째 출력\n",
      "1\n",
      "다섯번째 출력\n",
      "두번째 출력\n",
      "2\n",
      "여섯번째 출력\n"
     ]
    },
    {
     "ename": "StopIteration",
     "evalue": "",
     "output_type": "error",
     "traceback": [
      "\u001b[0;31m---------------------------------------------------------------------------\u001b[0m",
      "\u001b[0;31mStopIteration\u001b[0m                             Traceback (most recent call last)",
      "Cell \u001b[0;32mIn[4], line 16\u001b[0m\n\u001b[1;32m     14\u001b[0m \u001b[38;5;28mprint\u001b[39m(y)\n\u001b[1;32m     15\u001b[0m \u001b[38;5;28mprint\u001b[39m(\u001b[38;5;124m\"\u001b[39m\u001b[38;5;124m여섯번째 출력\u001b[39m\u001b[38;5;124m\"\u001b[39m)\n\u001b[0;32m---> 16\u001b[0m z\u001b[38;5;241m=\u001b[39m \u001b[38;5;28;43mnext\u001b[39;49m\u001b[43m(\u001b[49m\u001b[43moutput\u001b[49m\u001b[43m)\u001b[49m\n\u001b[1;32m     17\u001b[0m \u001b[38;5;28mprint\u001b[39m(z)\n",
      "\u001b[0;31mStopIteration\u001b[0m: "
     ]
    }
   ],
   "source": [
    "def test():\n",
    "  print(\"첫번째 출력\")\n",
    "  yield 1\n",
    "  print(\"두번째 출력\")\n",
    "  yield 2\n",
    "\n",
    "output = test()\n",
    "print(\"네번째 출력\")\n",
    "\n",
    "x= next(output)\n",
    "print(x)\n",
    "print(\"다섯번째 출력\")\n",
    "y= next(output)\n",
    "print(y)\n",
    "print(\"여섯번째 출력\")\n",
    "z= next(output)\n",
    "print(z)\n"
   ]
  }
 ],
 "metadata": {
  "kernelspec": {
   "display_name": "Python 3",
   "language": "python",
   "name": "python3"
  },
  "language_info": {
   "codemirror_mode": {
    "name": "ipython",
    "version": 3
   },
   "file_extension": ".py",
   "mimetype": "text/x-python",
   "name": "python",
   "nbconvert_exporter": "python",
   "pygments_lexer": "ipython3",
   "version": "3.12.6"
  }
 },
 "nbformat": 4,
 "nbformat_minor": 2
}
