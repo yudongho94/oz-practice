{
 "cells": [
  {
   "cell_type": "code",
   "execution_count": 1,
   "metadata": {},
   "outputs": [
    {
     "name": "stdout",
     "output_type": "stream",
     "text": [
      "오류는 아주 사소한 것부터 발생합니다.\n"
     ]
    }
   ],
   "source": [
    "# 구문오류 예제\n",
    "print(\"오류는 아주 사소한 것부터 발생합니다.\")\n"
   ]
  },
  {
   "cell_type": "code",
   "execution_count": 2,
   "metadata": {},
   "outputs": [
    {
     "ename": "SyntaxError",
     "evalue": "incomplete input (1847869936.py, line 2)",
     "output_type": "error",
     "traceback": [
      "\u001b[0;36m  Cell \u001b[0;32mIn[2], line 2\u001b[0;36m\u001b[0m\n\u001b[0;31m    print(\"오류는 아주 사소한 것부터 발생합니다.\"\u001b[0m\n\u001b[0m                                 ^\u001b[0m\n\u001b[0;31mSyntaxError\u001b[0m\u001b[0;31m:\u001b[0m incomplete input\n"
     ]
    }
   ],
   "source": [
    "# 닫는 괄호를 생략한 경우\n",
    "print(\"오류는 아주 사소한 것부터 발생합니다.\""
   ]
  },
  {
   "cell_type": "code",
   "execution_count": 5,
   "metadata": {},
   "outputs": [
    {
     "name": "stdout",
     "output_type": "stream",
     "text": [
      "['말티즈', '시바견', '리트리버']\n"
     ]
    }
   ],
   "source": [
    "# 예외 또는 런타임 오류는 실행 중에 발생하는 오류\n",
    "\n",
    "#예외 발생\n",
    "#dogs.append = dogs가 정의되어있지 않음\n",
    "\n",
    "#예외 발생 코드 해결\n",
    "dogs = [\"말티즈\", \"시바견\"]\n",
    "dogs.append(\"리트리버\")\n",
    "print(dogs)"
   ]
  },
  {
   "cell_type": "code",
   "execution_count": 14,
   "metadata": {},
   "outputs": [
    {
     "name": "stdout",
     "output_type": "stream",
     "text": [
      "삼각형의 넓이는 7.5입니다.\n"
     ]
    }
   ],
   "source": [
    "x, y = map(int, input(\"밑변과 높이를 입력해주세요\").split(\" \"))\n",
    "print(f'삼각형의 넓이는 {x*y/2}입니다.')"
   ]
  },
  {
   "cell_type": "code",
   "execution_count": 22,
   "metadata": {},
   "outputs": [
    {
     "ename": "TypeError",
     "evalue": "map() must have at least two arguments.",
     "output_type": "error",
     "traceback": [
      "\u001b[0;31m---------------------------------------------------------------------------\u001b[0m",
      "\u001b[0;31mTypeError\u001b[0m                                 Traceback (most recent call last)",
      "Cell \u001b[0;32mIn[22], line 3\u001b[0m\n\u001b[1;32m      1\u001b[0m \u001b[38;5;66;03m#isdigi = 숫자로만 구성되어있는 글자인지를 판단하고 숫자로 변환이 가능한 글자라면 true를 반환합니다.\u001b[39;00m\n\u001b[0;32m----> 3\u001b[0m x, y \u001b[38;5;241m=\u001b[39m \u001b[38;5;28;43mmap\u001b[39;49m\u001b[43m(\u001b[49m\u001b[38;5;28;43minput\u001b[39;49m\u001b[43m(\u001b[49m\u001b[38;5;124;43m\"\u001b[39;49m\u001b[38;5;124;43m밑변과 높이를 입력해주세요\u001b[39;49m\u001b[38;5;124;43m\"\u001b[39;49m\u001b[43m)\u001b[49m\u001b[38;5;241;43m.\u001b[39;49m\u001b[43msplit\u001b[49m\u001b[43m(\u001b[49m\u001b[38;5;124;43m\"\u001b[39;49m\u001b[38;5;124;43m \u001b[39;49m\u001b[38;5;124;43m\"\u001b[39;49m\u001b[43m)\u001b[49m\u001b[43m)\u001b[49m\n\u001b[1;32m      5\u001b[0m \u001b[38;5;28;01mif\u001b[39;00m x\u001b[38;5;241m.\u001b[39misdigit() \u001b[38;5;129;01mand\u001b[39;00m y\u001b[38;5;241m.\u001b[39misdigit():\n\u001b[1;32m      6\u001b[0m   x,y \u001b[38;5;241m=\u001b[39m \u001b[38;5;28mint\u001b[39m(x), \u001b[38;5;28mint\u001b[39m(y)\n",
      "\u001b[0;31mTypeError\u001b[0m: map() must have at least two arguments."
     ]
    }
   ],
   "source": [
    "#isdigi = 숫자로만 구성되어있는 글자인지를 판단하고 숫자로 변환이 가능한 글자라면 true를 반환합니다.\n",
    "\n",
    "x, y = map(input(\"밑변과 높이를 입력해주세요\").split(\" \"))\n",
    "\n",
    "if x.isdigit() and y.isdigit():\n",
    "  x,y = int(x), int(y)\n",
    "  print(f'삼각형의 넓이는 {x*y/2}입니다.')\n",
    "else:\n",
    "  print(\"정수로 입력하지 않아서 계산이 불가합니다.\")\n"
   ]
  }
 ],
 "metadata": {
  "kernelspec": {
   "display_name": "Python 3",
   "language": "python",
   "name": "python3"
  },
  "language_info": {
   "codemirror_mode": {
    "name": "ipython",
    "version": 3
   },
   "file_extension": ".py",
   "mimetype": "text/x-python",
   "name": "python",
   "nbconvert_exporter": "python",
   "pygments_lexer": "ipython3",
   "version": "3.12.6"
  }
 },
 "nbformat": 4,
 "nbformat_minor": 2
}
