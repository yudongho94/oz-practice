{
 "cells": [
  {
   "cell_type": "code",
   "execution_count": 6,
   "metadata": {},
   "outputs": [
    {
     "name": "stdout",
     "output_type": "stream",
     "text": [
      "정수로 입력하지 않아 계산이 불가합니다.\n"
     ]
    }
   ],
   "source": [
    "try:\n",
    "  x, y = map(int, input(\"밑변과 높이를 입력해주세요\")).split(\" \")\n",
    "  print(f\"삼각형의 넓이는 {x*y/2}입니다.\")\n",
    "except:\n",
    "  print(\"정수로 입력하지 않아 계산이 불가합니다.\")\n"
   ]
  },
  {
   "cell_type": "code",
   "execution_count": 7,
   "metadata": {},
   "outputs": [
    {
     "name": "stdout",
     "output_type": "stream",
     "text": [
      "['1', '7', '3', '스파이', '4']내부에 있는 숫자는?\n",
      "['1', '7', '3', '4']입니다.\n"
     ]
    }
   ],
   "source": [
    "list_input = [\"1\",\"7\",\"3\",\"스파이\",\"4\"]\n",
    "\n",
    "list_number = []\n",
    "\n",
    "for item in list_input:\n",
    "  try:\n",
    "    int(item)\n",
    "    list_number.append(item)\n",
    "  except:\n",
    "    pass\n",
    "\n",
    "print(f'{list_input}내부에 있는 숫자는?')\n",
    "print(f'{list_number}입니다.')"
   ]
  },
  {
   "cell_type": "code",
   "execution_count": 8,
   "metadata": {},
   "outputs": [
    {
     "name": "stdout",
     "output_type": "stream",
     "text": [
      "정수로 입력하지 않아 계산이 불가합니다.\n"
     ]
    }
   ],
   "source": [
    "try:\n",
    "  x, y = map(int, input(\"밑변과 높이를 입력해주세요\")).split(\" \")\n",
    "except:\n",
    "  print(\"정수로 입력하지 않아 계산이 불가합니다.\")\n",
    "else:\n",
    "  print(f\"삼각형의 넓이는 {x*y/2}입니다.\")"
   ]
  },
  {
   "cell_type": "code",
   "execution_count": null,
   "metadata": {},
   "outputs": [],
   "source": [
    "# finally = return 구문으로 함수를 빠져나와도 finally 구문이 있다면 finally 구문이 실행된다.\n",
    "\n",
    "try:\n",
    "  x, y = map(int, input(\"밑변과 높이를 입력해주세요\")).split(\" \")\n",
    "except:\n",
    "  print(\"정수로 입력하지 않아 계산이 불가합니다.\")\n",
    "else:\n",
    "  print(f\"삼각형의 넓이는 {x*y/2}입니다.\")\n",
    "finally:\n",
    "  print(\"프로그램이 종료되었습니다.\")"
   ]
  }
 ],
 "metadata": {
  "kernelspec": {
   "display_name": "Python 3",
   "language": "python",
   "name": "python3"
  },
  "language_info": {
   "codemirror_mode": {
    "name": "ipython",
    "version": 3
   },
   "file_extension": ".py",
   "mimetype": "text/x-python",
   "name": "python",
   "nbconvert_exporter": "python",
   "pygments_lexer": "ipython3",
   "version": "3.12.6"
  }
 },
 "nbformat": 4,
 "nbformat_minor": 2
}
