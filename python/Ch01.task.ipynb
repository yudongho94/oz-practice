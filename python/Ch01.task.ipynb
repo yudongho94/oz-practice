{
 "cells": [
  {
   "cell_type": "markdown",
   "metadata": {},
   "source": [
    "<span style=\"font-size:100%\">\n",
    "\n",
    "수업은 모두 열심히 들으셨나요?\n",
    "\n",
    "간혹 강의에서 언급되지 않은 내용이 문제로 나올 수 있습니다.<br>\n",
    "그럴땐 강의 내용 외 문제는 구글링을 통해 해결해주세요<br></span>\n",
    "<span style=\"font-size:80%\">\n",
    "(구글링 또한 개발자가 갖쳐야할 역량 중에 하나랍니다 😊)\n",
    "</span>\n",
    "\n",
    "---"
   ]
  },
  {
   "cell_type": "markdown",
   "metadata": {},
   "source": [
    "<span style=\"font-size:80%\">[문제1]<br><br></span>\n",
    "```인터프리트 방식에 대해 설명하고 2개 이상의 장점을 설명해주세요```"
   ]
  },
  {
   "cell_type": "markdown",
   "metadata": {},
   "source": [
    "<span style=\"color:red\">답변</span>"
   ]
  },
  {
   "cell_type": "markdown",
   "metadata": {},
   "source": [
    "## 인터프리트 방식\n",
    "인터프리트 방식이란 프로그램을 한 줄씩 읽어 들이면서 즉시 실행하는 방식으로\n",
    "파이썬이 인터프리터를 사용하는 대표적인 프로그램이다.\n",
    "\n",
    "## 인터프리트의 장점\n",
    "* 인터프리터는 소스 코드를 직접 해석하고 실행하기 때문에 컴파일 과정이 필요하지 않아\n",
    "  개발 과정에서 빠른 피드백을 받을 수 있다는 장점을 가지고 있다.\n",
    "  \n",
    "* 인터프리터 언어는 동적 타이핑을 지원하여 변수의 타입을 명시하지 않아도 되기 때문에\n",
    "  코드 작성이 간결해진다는 장점이 있다."
   ]
  },
  {
   "cell_type": "markdown",
   "metadata": {},
   "source": [
    "---"
   ]
  },
  {
   "cell_type": "markdown",
   "metadata": {},
   "source": [
    "<span style=\"font-size:80%\">[문제2]<br><br></span>\n",
    "```동적 타입 방식의 장점과 단점을 간략히 설명해주세요```"
   ]
  },
  {
   "cell_type": "markdown",
   "metadata": {},
   "source": [
    "<span style=\"color:red\">답변</span>"
   ]
  },
  {
   "cell_type": "markdown",
   "metadata": {},
   "source": [
    "## 동적 타입 방식의 장점\n",
    "\n",
    "* 유연성: 실행 시간에 타입이 결정되기 때문에 동적으로 변수의 타입을 변경할 수 있어\n",
    "  유연성이 높다.\n",
    "\n",
    "* 간단한 문법: 타입 선언이 없거나 간소화되어 코드를 간결하게 작성할 수 있다.\n",
    "\n",
    "## 동적 타입 방식의 단점\n",
    "\n",
    "* 코드 예측의 어려움: 타입 정보가 부족하면 코드를 이해하고 예측하는 데에 어려움이\n",
    "  생긴다.\n",
    "\n",
    "* 런타임 에러: 실행 중에 타입 관련 오류가 발생할 수 있으며, 이는 실행 시간에만\n",
    "  감지가 된다.\n",
    "\n"
   ]
  },
  {
   "cell_type": "markdown",
   "metadata": {},
   "source": [
    "---"
   ]
  },
  {
   "cell_type": "markdown",
   "metadata": {},
   "source": [
    "<span style=\"font-size:80%\">[문제3]<br><br></span>\n",
    "```Python으로 정적타입 방식의 코드를 작성할 수 있는 방법을 구글링을 통해 검색 후 설명해주세요```"
   ]
  },
  {
   "cell_type": "markdown",
   "metadata": {},
   "source": [
    "<span style=\"color:red\">답변</span>"
   ]
  },
  {
   "cell_type": "markdown",
   "metadata": {},
   "source": [
    "## 타입 힌트를 사용한다.\n",
    "\n",
    "* 파이썬의 타입 힌트는 파이썬 코드에 정적 타입을 선택적으로 제공하는 기능이다.\n",
    "\n",
    "* 타입 힌트를 위하여 파이썬 3.5버전 이후로는 typing이라는 내장 모듈을 지원한다."
   ]
  },
  {
   "cell_type": "markdown",
   "metadata": {},
   "source": [
    "---"
   ]
  },
  {
   "cell_type": "markdown",
   "metadata": {},
   "source": [
    "<span style=\"font-size:80%\">[문제4]<br><br></span>\n",
    "```프로세스와 스레드의 차이점을 설명해주세요```"
   ]
  },
  {
   "cell_type": "markdown",
   "metadata": {},
   "source": [
    "<span style=\"color:red\">답변</span>"
   ]
  },
  {
   "cell_type": "markdown",
   "metadata": {},
   "source": [
    "## 프로세스와 스레드의 차이\n",
    "\n",
    "### 프로세스\n",
    "\n",
    "* 독립된 메모리와 자원을 갖는다.\n",
    "\n",
    "* 프로세스 간 메모리와 자원을 공유하지 않는다.\n",
    "\n",
    "* 기본적으로 프로세스당 최소 1개의 스레드(메인스레드)를 가지고 있다.\n",
    "\n",
    "### 스레드\n",
    "\n",
    "* 프로세스 내에서 실행되는 여러 흐름의 단위\n",
    "\n",
    "* 프로세스가 할당받은 자원을 이용하는 실행의 단위\n",
    "\n",
    "* 각각의 스레드는 별도의 레지스터와 스택을 갖고 있지만, 힙 메모리는 서로\n",
    "  읽고 쓸 수 있다."
   ]
  },
  {
   "cell_type": "markdown",
   "metadata": {},
   "source": [
    "---"
   ]
  },
  {
   "cell_type": "markdown",
   "metadata": {},
   "source": [
    "<span style=\"font-size:80%\">[문제5]<br><br></span>\n",
    "```Python 2버전대와 3버전대의 차이를 성명해주세요```"
   ]
  },
  {
   "cell_type": "markdown",
   "metadata": {},
   "source": [
    "<span style=\"color:red\">답변</span>"
   ]
  },
  {
   "cell_type": "markdown",
   "metadata": {},
   "source": [
    "## Python 2버전대와 3버전대의 차이\n",
    "\n",
    "### 향상된 정수 나눗셈 기능\n",
    "\n",
    "* Python 2에서는 정수에 나눗셈을 하면 가장 가까운 정수까지 반올림을 하였고\n",
    "  소수점이 있으면 반올림을 하지 않았지만, Python 3에서는 소수점 뒤에\n",
    "  0을 붙일 걱정할 필요가 없게끔 반올림 해주지 않는 기능을 추가하였다.\n",
    "\n",
    "### print 명령어 문법의 변화\n",
    "\n",
    "* Python 3는 print 명령어가 print()기능으로 대체되었다.\n",
    "  ex. Python 2 = print\"hello\"\n",
    "      Python 3 = print(\"hello\")"
   ]
  },
  {
   "cell_type": "markdown",
   "metadata": {},
   "source": [
    "---"
   ]
  },
  {
   "cell_type": "markdown",
   "metadata": {},
   "source": [
    "<span style=\"font-size:80%\">[문제6]<br><br></span>\n",
    "```Python에서 메모리 관리는 어떻게 이루어지는지 설명해주세요```"
   ]
  },
  {
   "cell_type": "markdown",
   "metadata": {},
   "source": [
    "<span style=\"color:red\">답변</span>"
   ]
  },
  {
   "cell_type": "markdown",
   "metadata": {},
   "source": [
    "## Python의 메모리 관리\n",
    "\n",
    "Python은 Garbage Collector를 이용하여 자동으로 메모리를 관리한다.\n",
    "메모리 관리 참조 계수 \"refernce counting\"을 기반으로 이루어지고\n",
    "객체를 참조하는 변수의 개수를 추적하여 참조하는 변수의 개수가 0이 되면\n",
    "해당 객체의 메모리는 자동으로 해지되는 시스템으로 메모리 관리를 한다."
   ]
  }
 ],
 "metadata": {
  "kernelspec": {
   "display_name": "Python 3",
   "language": "python",
   "name": "python3"
  },
  "language_info": {
   "codemirror_mode": {
    "name": "ipython",
    "version": 3
   },
   "file_extension": ".py",
   "mimetype": "text/x-python",
   "name": "python",
   "nbconvert_exporter": "python",
   "pygments_lexer": "ipython3",
   "version": "3.9.6"
  }
 },
 "nbformat": 4,
 "nbformat_minor": 2
}
