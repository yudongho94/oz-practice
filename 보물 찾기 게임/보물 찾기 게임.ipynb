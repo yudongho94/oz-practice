{
 "cells": [
  {
   "cell_type": "code",
   "execution_count": 1,
   "metadata": {},
   "outputs": [
    {
     "name": "stdout",
     "output_type": "stream",
     "text": [
      "현재 위치: (3, 0)\n",
      "보물까지의 거리: 1\n",
      "현재 위치: (3, 0)\n",
      "보물까지의 거리: 1\n",
      "현재 위치: (4, 0)\n",
      "보물까지의 거리: 2\n",
      "현재 위치: (3, 0)\n",
      "보물까지의 거리: 1\n",
      "현재 위치: (2, 0)\n",
      "보물까지의 거리: 0\n",
      "보물을 찾았습니다! 이동 횟수: 41\n"
     ]
    }
   ],
   "source": [
    "import random\n",
    "\n",
    "# 게임 초기화\n",
    "def initialize_game(n):\n",
    "    board_size = n\n",
    "    treasure_position = (random.randint(0, n-1), random.randint(0, n-1))\n",
    "    player_position = (random.randint(0, n-1), random.randint(0, n-1))\n",
    "    return board_size, treasure_position, player_position\n",
    "\n",
    "# 플레이어 이동\n",
    "def move_player(board_size, player_position, direction):\n",
    "    x, y = player_position\n",
    "    if direction == 'N':\n",
    "        x = max(x-1, 0)\n",
    "    elif direction == 'S':\n",
    "        x = min(x+1, board_size-1)\n",
    "    elif direction == 'E':\n",
    "        y = min(y+1, board_size-1)\n",
    "    elif direction == 'W':\n",
    "        y = max(y-1, 0)\n",
    "    return x, y\n",
    "\n",
    "# 거리 계산\n",
    "def calculate_distance(treasure_position, player_position):\n",
    "    return abs(treasure_position[0] - player_position[0]) + abs(treasure_position[1] - player_position[1])\n",
    "\n",
    "# 게임 실행\n",
    "def play_game(board_size):\n",
    "    board_size, treasure_position, player_position = initialize_game(board_size)\n",
    "    moves = 0\n",
    "    \n",
    "    while True:\n",
    "        print(f\"현재 위치: {player_position}\")\n",
    "        distance = calculate_distance(treasure_position, player_position)\n",
    "        print(f\"보물까지의 거리: {distance}\")\n",
    "        \n",
    "        if distance == 0:\n",
    "            print(f\"보물을 찾았습니다! 이동 횟수: {moves}\")\n",
    "            break\n",
    "\n",
    "        try:\n",
    "            direction = input(\"이동 방향을 선택하세요 (N, S, E, W): \").upper()\n",
    "            if direction not in ['N', 'S', 'E', 'W']:\n",
    "                raise ValueError(\"잘못된 방향입니다. N, S, E, W 중 하나를 입력해주세요.\")\n",
    "            player_position = move_player(board_size, player_position, direction)\n",
    "            moves += 1\n",
    "        except ValueError as e:\n",
    "            print(e)\n",
    "\n",
    "# 게임 보드 크기 설정 및 게임 시작\n",
    "if __name__ == \"__main__\":\n",
    "    board_size = 5  # 보드 크기를 5x5로 설정\n",
    "    play_game(board_size)\n"
   ]
  }
 ],
 "metadata": {
  "kernelspec": {
   "display_name": "Python 3",
   "language": "python",
   "name": "python3"
  },
  "language_info": {
   "codemirror_mode": {
    "name": "ipython",
    "version": 3
   },
   "file_extension": ".py",
   "mimetype": "text/x-python",
   "name": "python",
   "nbconvert_exporter": "python",
   "pygments_lexer": "ipython3",
   "version": "3.12.6"
  }
 },
 "nbformat": 4,
 "nbformat_minor": 2
}
